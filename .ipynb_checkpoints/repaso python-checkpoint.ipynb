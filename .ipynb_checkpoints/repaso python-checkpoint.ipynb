{
 "cells": [
  {
   "cell_type": "code",
   "execution_count": 26,
   "metadata": {},
   "outputs": [],
   "source": [
    "# int \n",
    "a = 123444\n",
    "# string\n",
    "s = \"este es un string\"\n",
    "# boool\n",
    "verdad = True\n",
    "falso = False\n",
    "# none\n",
    "b = None"
   ]
  },
  {
   "cell_type": "code",
   "execution_count": 27,
   "metadata": {},
   "outputs": [
    {
     "name": "stdout",
     "output_type": "stream",
     "text": [
      "123444\n"
     ]
    }
   ],
   "source": [
    "# print\n",
    "print(a)"
   ]
  },
  {
   "cell_type": "code",
   "execution_count": 29,
   "metadata": {},
   "outputs": [
    {
     "name": "stdout",
     "output_type": "stream",
     "text": [
      "a no es igual\n"
     ]
    }
   ],
   "source": [
    "if a==123445:\n",
    "    print(\"a es igual\")\n",
    "# else if ...:    \n",
    "else:\n",
    "    print(\"a no es igual\")"
   ]
  },
  {
   "cell_type": "code",
   "execution_count": 33,
   "metadata": {},
   "outputs": [
    {
     "name": "stdout",
     "output_type": "stream",
     "text": [
      "0\n",
      "1\n"
     ]
    }
   ],
   "source": [
    "# for(int i = 0; i <= 5; i++){\n",
    "#     0 1 2 3 4 5\n",
    "    \n",
    "# }\n",
    "\n",
    "n = 2\n",
    "for i in range(n):\n",
    "    print(i)"
   ]
  },
  {
   "cell_type": "code",
   "execution_count": 38,
   "metadata": {},
   "outputs": [
    {
     "name": "stdout",
     "output_type": "stream",
     "text": [
      "6 + 2\n"
     ]
    }
   ],
   "source": [
    "# int sumar(int n1, int n2) {\n",
    "    \n",
    "# }\n",
    "\n",
    "def sumar(n1, n2):\n",
    "    print(n1, \"+\", n2)\n",
    "    return \n",
    "\n",
    "resultado = sumar(6, 2)\n",
    "print(resultado)\n",
    "\n",
    "    "
   ]
  },
  {
   "cell_type": "code",
   "execution_count": 40,
   "metadata": {},
   "outputs": [
    {
     "name": "stdout",
     "output_type": "stream",
     "text": [
      "persona:  luis  tiene  20\n"
     ]
    }
   ],
   "source": [
    "# this -> self\n",
    "\n",
    "class Persona():\n",
    "\n",
    "    def __init__(self, nombre, edad):\n",
    "        self.nombre = nombre\n",
    "        self.edad = edad\n",
    "        self.nacionalidad = \"bolivian@\"\n",
    "\n",
    "    def aumentar_edad(self):\n",
    "        self.edad = self.edad + 1\n",
    "\n",
    "persona = Persona(\"luis\", 20)\n",
    "print(\"persona: \", persona.nombre, \" tiene \", persona.edad)\n",
    "        \n",
    "    \n",
    "        \n",
    "    "
   ]
  },
  {
   "cell_type": "code",
   "execution_count": 45,
   "metadata": {},
   "outputs": [],
   "source": [
    "persona.aumentar_edad()"
   ]
  },
  {
   "cell_type": "code",
   "execution_count": 46,
   "metadata": {},
   "outputs": [
    {
     "name": "stdout",
     "output_type": "stream",
     "text": [
      "persona:  luis  tiene  23\n"
     ]
    }
   ],
   "source": [
    "print(\"persona: \", persona.nombre, \" tiene \", persona.edad)\n"
   ]
  },
  {
   "cell_type": "code",
   "execution_count": null,
   "metadata": {},
   "outputs": [],
   "source": []
  }
 ],
 "metadata": {
  "kernelspec": {
   "display_name": "Python 3",
   "language": "python",
   "name": "python3"
  },
  "language_info": {
   "codemirror_mode": {
    "name": "ipython",
    "version": 3
   },
   "file_extension": ".py",
   "mimetype": "text/x-python",
   "name": "python",
   "nbconvert_exporter": "python",
   "pygments_lexer": "ipython3",
   "version": "3.7.4"
  }
 },
 "nbformat": 4,
 "nbformat_minor": 2
}
